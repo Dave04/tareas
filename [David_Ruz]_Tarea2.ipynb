{
 "metadata": {
  "name": "",
  "signature": "sha256:d79bef8585786b2d3024f2cbdb4bfc228c00048a1467176d28976ab343907c9a"
 },
 "nbformat": 3,
 "nbformat_minor": 0,
 "worksheets": [
  {
   "cells": [
    {
     "cell_type": "code",
     "collapsed": false,
     "input": [
      "import gzip\n",
      "import time\n",
      "def funcion1(pagina):\n",
      "    f=gzip.open('C:\\\\Users\\\\Karem\\\\Desktop\\\\primer semestre 2014\\\\computacion\\\\tarea 2\\\\pld-index.gz','rb')\n",
      "    hola=f.readline()\n",
      "    while hola!=\"\":\n",
      "        d=hola.split('\\t')\n",
      "        if pagina==d[0]:\n",
      "            valorpagina=d[1]\n",
      "            break\n",
      "        hola=f.readline()\n",
      "    print(\"valor indice de \" + pagina + \": \" + valorpagina)\n",
      "    f.close()\n",
      "    return valorpagina\n",
      "    "
     ],
     "language": "python",
     "metadata": {},
     "outputs": [],
     "prompt_number": 43
    },
    {
     "cell_type": "code",
     "collapsed": false,
     "input": [
      "def funcion1b(pagina,valorpagina):\n",
      "    contadorap=0\n",
      "    h=gzip.open('C:\\\\Users\\\\Karem\\\\Desktop\\\\primer semestre 2014\\\\computacion\\\\tarea 2\\\\pld-arc.gz','rb')\n",
      "    chao=h.readline()\n",
      "    while chao!=\"\":\n",
      "        r=chao.split('\\t')\n",
      "        if valorpagina[:-1]==r[0]:\n",
      "            contadorap+=1\n",
      "        if int(r[0])>int(valorpagina[:-1]):\n",
      "            break\n",
      "        chao=h.readline()\n",
      "    print(\"numero de outdegree: \" + str(contadorap))\n",
      "    h.close()"
     ],
     "language": "python",
     "metadata": {},
     "outputs": [],
     "prompt_number": 44
    },
    {
     "cell_type": "code",
     "collapsed": false,
     "input": [
      "def funcion2(valorpagina):\n",
      "    contadorw=0\n",
      "    j=gzip.open('C:\\\\Users\\\\Karem\\\\Desktop\\\\primer semestre 2014\\\\computacion\\\\tarea 2\\\\pld-arc.gz','rb')\n",
      "    hi=j.readline()\n",
      "    try:\n",
      "        while hi != \"\":\n",
      "            s=hi.split('\\t')\n",
      "            if valorpagina==s[1]:\n",
      "                contadorw+=1\n",
      "            hi=j.readline()\n",
      "    except:\n",
      "        print(\"numero de indegree: \" + str(contadorw))\n",
      "    j.close()"
     ],
     "language": "python",
     "metadata": {},
     "outputs": [],
     "prompt_number": 45
    },
    {
     "cell_type": "code",
     "collapsed": false,
     "input": [
      "def funcion3(blog):\n",
      "    w=gzip.open('C:\\\\Users\\\\Diego\\\\SkyDrive\\\\Universidad\\\\Tercer Semestre\\\\Computacion\\\\Tareas\\\\2\\\\Archivos\\\\sd1-index.gz')\n",
      "    contadorblog=0\n",
      "    leer=w.readline()\n",
      "    try:\n",
      "        while leer!=\"\":\n",
      "            separar=leer.split('\\t')\n",
      "            if blog in separar[0]:\n",
      "                contadorblog+=1\n",
      "            leer=w.readline()\n",
      "    except:\n",
      "        print(\"cantidad total de subdominios de blogspot: \" + str(contadorblog))\n",
      "    w.close()"
     ],
     "language": "python",
     "metadata": {},
     "outputs": [],
     "prompt_number": 46
    },
    {
     "cell_type": "code",
     "collapsed": false,
     "input": [
      "tiempo1i=time.time()\n",
      "valorpagina=funcion1(\"apple.com\")\n",
      "tiempo1m=time.time()\n",
      "funcion1b(\"apple.com\",valorpagina)\n",
      "tiempo1f=time.time()\n",
      "tiempoindice=(tiempo1m-tiempo1i)/60\n",
      "tiempoout=(tiempo1f-tiempo1m)/60\n",
      "tiempo1t=tiempoindice+tiempoout\n",
      "print(\"tiempo en buscar indice: \" + str(tiempoindice) + \" minutos\")\n",
      "print(\"tiempo en buscar outdegree: \" + str(tiempoout) + \" minutos\")\n",
      "print(\"tiempo total en generar todo: \" + str(tiempo1t))"
     ],
     "language": "python",
     "metadata": {},
     "outputs": []
    },
    {
     "cell_type": "code",
     "collapsed": false,
     "input": [
      "tiempoi=time.time()\n",
      "valorpagina=funcion1(\"wikipedia.com\")\n",
      "tiempom=time.time()\n",
      "funcion2(valorpagina)\n",
      "tiempof=time.time()\n",
      "tiempo1=(tiempom-tiempoi)/60\n",
      "tiempo2=(tiempof-tiempom)/60\n",
      "print(\"tiempo en buscar indice: \" + str(tiempo1) + \" minutos\")\n",
      "print(\"tiempo en buscar indegree: \" + str(tiempo2) + \" minutos\")\n",
      "print(\"tiempo total en generar todo: \" + str(tiempo1 + tiempo2) + \" minutos\")\n"
     ],
     "language": "python",
     "metadata": {},
     "outputs": []
    },
    {
     "cell_type": "code",
     "collapsed": false,
     "input": [
      "tiempo3i=time.time()\n",
      "funcion3(\".blogspot,com\")\n",
      "tiempo3f=time.time()\n",
      "tiempo3t=(tiempo3f-tiempo3i)/60\n",
      "print(\"tiempo total de busqueda de subdominios de blogspot: \" + str(tiempo3t) + \" minutos\")"
     ],
     "language": "python",
     "metadata": {},
     "outputs": []
    },
    {
     "cell_type": "code",
     "collapsed": false,
     "input": [
      "def funcion4(pagina):\n",
      "    tiempoinicial=time.time()\n",
      "    valorpagina=funcion1(pagina)\n",
      "    tiempomedio=time.time()\n",
      "    funcion1b(pagina,valorpagina)\n",
      "    tiempofinal=time.time()\n",
      "    funcion2(valorpagina)\n",
      "    tiempofinal2=time.time()\n",
      "    tiempobuscar=(tiempomedio-tiempoinicial)/60\n",
      "    tiempolinks=(tiempofinal-tiempomedio)/60\n",
      "    tiempollamado=(tiempofinal2-tiempofinal)/60\n",
      "    tiempototal=tiempobuscar+tiempolinks+tiempollamado\n",
      "    print(\"tiempo en buscar indice: \" + str(tiempobuscar) + \" minutos\")\n",
      "    print(\"tiempo en buscar outdegree: \" + str(tiempolinks) + \" minutos\")\n",
      "    print(\"tiempo en buscar indegree: \" + str(tiempollamado) + \" minutos\")\n",
      "    print(\"tiempo total: \" + str(tiempototal) + \" minutos\")"
     ],
     "language": "python",
     "metadata": {},
     "outputs": []
    },
    {
     "cell_type": "code",
     "collapsed": false,
     "input": [
      "\n",
      "funcion4(\"yahoo.com\")\n",
      "#----------------------\n",
      "funcion4(\"beautybar.com\")\n",
      "#-----------------------\n",
      "funcion4(\"over-blog.com\")"
     ],
     "language": "python",
     "metadata": {},
     "outputs": []
    },
    {
     "cell_type": "code",
     "collapsed": false,
     "input": [],
     "language": "python",
     "metadata": {},
     "outputs": []
    }
   ],
   "metadata": {}
  }
 ]
}